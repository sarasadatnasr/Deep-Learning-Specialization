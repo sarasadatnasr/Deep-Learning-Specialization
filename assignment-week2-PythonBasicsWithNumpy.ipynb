{
 "cells": [
  {
   "cell_type": "code",
   "execution_count": 2,
   "metadata": {},
   "outputs": [
    {
     "name": "stdout",
     "output_type": "stream",
     "text": [
      "Hello World\n"
     ]
    }
   ],
   "source": [
    "#START CODE HERE # (≈ 1 line of code)\n",
    "sentence = \"Hello World\"\n",
    "print(sentence)\n",
    "### END CODE HERE ###"
   ]
  },
  {
   "cell_type": "code",
   "execution_count": 3,
   "metadata": {},
   "outputs": [
    {
     "name": "stdout",
     "output_type": "stream",
     "text": [
      "0.9525741268224334\n"
     ]
    }
   ],
   "source": [
    "# GRADED FUNCTION: basic_sigmoid\n",
    "import math\n",
    "def sigmoid(x):\n",
    "    r = 1/(1+math.exp(-x))\n",
    "    return r\n",
    "    \n",
    "#output for x=3:\n",
    "print(sigmoid(3))    "
   ]
  },
  {
   "cell_type": "code",
   "execution_count": 4,
   "metadata": {},
   "outputs": [
    {
     "ename": "TypeError",
     "evalue": "bad operand type for unary -: 'list'",
     "output_type": "error",
     "traceback": [
      "\u001b[1;31m---------------------------------------------------------------------------\u001b[0m",
      "\u001b[1;31mTypeError\u001b[0m                                 Traceback (most recent call last)",
      "\u001b[1;32mc:\\Users\\User\\Desktop\\Deep-learning\\assignment-week2-PythonBasicsWithNumpy.ipynb Cell 3'\u001b[0m in \u001b[0;36m<cell line: 4>\u001b[1;34m()\u001b[0m\n\u001b[0;32m      <a href='vscode-notebook-cell:/c%3A/Users/User/Desktop/Deep-learning/assignment-week2-PythonBasicsWithNumpy.ipynb#ch0000002?line=0'>1</a>\u001b[0m \u001b[39m# One reason why we use \"numpy\" instead of \"math\" in Deep Learning #\u001b[39;00m\n\u001b[0;32m      <a href='vscode-notebook-cell:/c%3A/Users/User/Desktop/Deep-learning/assignment-week2-PythonBasicsWithNumpy.ipynb#ch0000002?line=1'>2</a>\u001b[0m \u001b[39m# you will see this give an error when you run it, because x is a vector.#\u001b[39;00m\n\u001b[0;32m      <a href='vscode-notebook-cell:/c%3A/Users/User/Desktop/Deep-learning/assignment-week2-PythonBasicsWithNumpy.ipynb#ch0000002?line=2'>3</a>\u001b[0m x \u001b[39m=\u001b[39m [\u001b[39m1\u001b[39m, \u001b[39m2\u001b[39m, \u001b[39m3\u001b[39m]\n\u001b[1;32m----> <a href='vscode-notebook-cell:/c%3A/Users/User/Desktop/Deep-learning/assignment-week2-PythonBasicsWithNumpy.ipynb#ch0000002?line=3'>4</a>\u001b[0m sigmoid(x)\n",
      "\u001b[1;32mc:\\Users\\User\\Desktop\\Deep-learning\\assignment-week2-PythonBasicsWithNumpy.ipynb Cell 2'\u001b[0m in \u001b[0;36msigmoid\u001b[1;34m(x)\u001b[0m\n\u001b[0;32m      <a href='vscode-notebook-cell:/c%3A/Users/User/Desktop/Deep-learning/assignment-week2-PythonBasicsWithNumpy.ipynb#ch0000001?line=2'>3</a>\u001b[0m \u001b[39mdef\u001b[39;00m \u001b[39msigmoid\u001b[39m(x):\n\u001b[1;32m----> <a href='vscode-notebook-cell:/c%3A/Users/User/Desktop/Deep-learning/assignment-week2-PythonBasicsWithNumpy.ipynb#ch0000001?line=3'>4</a>\u001b[0m     r \u001b[39m=\u001b[39m \u001b[39m1\u001b[39m\u001b[39m/\u001b[39m(\u001b[39m1\u001b[39m\u001b[39m+\u001b[39mmath\u001b[39m.\u001b[39mexp(\u001b[39m-\u001b[39;49mx))\n\u001b[0;32m      <a href='vscode-notebook-cell:/c%3A/Users/User/Desktop/Deep-learning/assignment-week2-PythonBasicsWithNumpy.ipynb#ch0000001?line=4'>5</a>\u001b[0m     \u001b[39mreturn\u001b[39;00m r\n",
      "\u001b[1;31mTypeError\u001b[0m: bad operand type for unary -: 'list'"
     ]
    }
   ],
   "source": [
    "# One reason why we use \"numpy\" instead of \"math\" in Deep Learning #\n",
    "# you will see this give an error when you run it, because x is a vector.#\n",
    "x = [1, 2, 3]\n",
    "sigmoid(x)"
   ]
  },
  {
   "cell_type": "code",
   "execution_count": 5,
   "metadata": {},
   "outputs": [
    {
     "name": "stdout",
     "output_type": "stream",
     "text": [
      "[ 2.71828183  7.3890561  20.08553692]\n"
     ]
    }
   ],
   "source": [
    "import numpy as np\n",
    "#The property of distributability\n",
    "x = np.array([1, 2, 3])\n",
    "print(np.exp(x)) "
   ]
  },
  {
   "cell_type": "code",
   "execution_count": 6,
   "metadata": {},
   "outputs": [
    {
     "name": "stdout",
     "output_type": "stream",
     "text": [
      "[4 5 6]\n"
     ]
    }
   ],
   "source": [
    "x = np.array([1, 2, 3])\n",
    "print (x + 3)"
   ]
  },
  {
   "cell_type": "code",
   "execution_count": 10,
   "metadata": {},
   "outputs": [
    {
     "data": {
      "text/plain": [
       "array([0.73105858, 0.88079708, 0.95257413])"
      ]
     },
     "execution_count": 10,
     "metadata": {},
     "output_type": "execute_result"
    }
   ],
   "source": [
    "def sigmoid_2(x):\n",
    "#here we have np instead of math \n",
    "    s = 1/(np.exp(-x) + 1)\n",
    "    return s\n",
    "sigmoid_2(x)"
   ]
  },
  {
   "cell_type": "code",
   "execution_count": 15,
   "metadata": {},
   "outputs": [
    {
     "name": "stdout",
     "output_type": "stream",
     "text": [
      "[0.19661193 0.10499359 0.04517666]\n"
     ]
    }
   ],
   "source": [
    "#Implement the function sigmoid_grad() to compute the gradient of the sigmoid function with respect to its input x. The formula is:\n",
    "# GRADED FUNCTION: sigmoid_derivative\n",
    "def derivative(x):\n",
    "    s = sigmoid_2(x)\n",
    "    ds = s*(1-s)\n",
    "    return ds\n",
    "\n",
    "x = np.array([1, 2, 3])    \n",
    "print(derivative(x))"
   ]
  },
  {
   "cell_type": "code",
   "execution_count": null,
   "metadata": {},
   "outputs": [
    {
     "name": "stdout",
     "output_type": "stream",
     "text": [
      "[0.19661193 0.10499359 0.04517666]\n"
     ]
    }
   ],
   "source": [
    "#Implement the function sigmoid_grad() to compute the gradient of the sigmoid function with respect to its input x. The formula is:\n",
    "# GRADED FUNCTION: sigmoid_derivative\n",
    "def derivative(x):\n",
    "    s = sigmoid_2(x)\n",
    "    ds = s*(1-s)\n",
    "    return ds\n",
    "\n",
    "x = np.array([1, 2, 3])    \n",
    "print(derivative(x))"
   ]
  },
  {
   "cell_type": "code",
   "execution_count": 17,
   "metadata": {},
   "outputs": [
    {
     "name": "stdout",
     "output_type": "stream",
     "text": [
      "[[ 1]\n",
      " [ 2]\n",
      " [ 3]\n",
      " [ 4]\n",
      " [ 5]\n",
      " [ 6]\n",
      " [ 7]\n",
      " [ 8]\n",
      " [ 9]\n",
      " [10]\n",
      " [11]\n",
      " [12]\n",
      " [13]\n",
      " [14]\n",
      " [15]\n",
      " [16]\n",
      " [17]\n",
      " [18]]\n"
     ]
    }
   ],
   "source": [
    "# Implement image2vector() that takes an input of shape (length, height, 3) and returns a vector of shape (length*height*3, 1).\n",
    "# For example, if you would like to reshape an array v of shape (a, b, c) into a vector of shape (a*b,c) you would do:\n",
    "# v = v.reshape((v.shape[0]*v.shape[1], v.shape[2])) # v.shape[0] = a ; v.shape[1] = b ; v.shape[2] = c\n",
    "\n",
    "def image2vector(image):\n",
    "    v = image.reshape(image.shape[0]*image.shape[1]*image.shape[2],1)\n",
    "    return v\n",
    "image = np.array([[[ 1, 2],\n",
    "        [ 3, 4],\n",
    "        [ 5, 6]],\n",
    "\n",
    "       [[ 7, 8],\n",
    "        [ 9, 10],\n",
    "        [ 11, 12]],\n",
    "\n",
    "       [[ 13, 14],\n",
    "        [ 15, 16],\n",
    "        [ 17, 18]]])\n",
    "\n",
    "print (image2vector(image))"
   ]
  },
  {
   "cell_type": "code",
   "execution_count": null,
   "metadata": {},
   "outputs": [],
   "source": [
    "# Implement normalizeRows() to normalize the rows of a matrix. After applying this function to an input matrix x,\n",
    "# each row of x should be a vector of unit length (meaning length 1)."
   ]
  }
 ],
 "metadata": {
  "kernelspec": {
   "display_name": "Python 3.10.4 64-bit",
   "language": "python",
   "name": "python3"
  },
  "language_info": {
   "codemirror_mode": {
    "name": "ipython",
    "version": 3
   },
   "file_extension": ".py",
   "mimetype": "text/x-python",
   "name": "python",
   "nbconvert_exporter": "python",
   "pygments_lexer": "ipython3",
   "version": "3.10.4"
  },
  "orig_nbformat": 4,
  "vscode": {
   "interpreter": {
    "hash": "afb734500600fd355917ca529030176ea0ca205570884b88f2f6f7d791fd3fbe"
   }
  }
 },
 "nbformat": 4,
 "nbformat_minor": 2
}
